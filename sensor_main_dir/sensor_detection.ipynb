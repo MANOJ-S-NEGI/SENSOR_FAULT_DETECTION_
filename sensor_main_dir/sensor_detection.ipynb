{
  "nbformat": 4,
  "nbformat_minor": 0,
  "metadata": {
    "colab": {
      "provenance": []
    },
    "kernelspec": {
      "name": "python3",
      "display_name": "Python 3"
    },
    "language_info": {
      "name": "python"
    }
  },
  "cells": [
    {
      "cell_type": "code",
      "source": [
        "import tensorflow as tf\n",
        "tf. __version__"
      ],
      "metadata": {
        "colab": {
          "base_uri": "https://localhost:8080/",
          "height": 36
        },
        "id": "kZLzGaj5ONkt",
        "outputId": "5d636ed3-1bc0-4791-9f83-1f3b4e2d9a04"
      },
      "execution_count": 1,
      "outputs": [
        {
          "output_type": "execute_result",
          "data": {
            "text/plain": [
              "'2.12.0'"
            ],
            "application/vnd.google.colaboratory.intrinsic+json": {
              "type": "string"
            }
          },
          "metadata": {},
          "execution_count": 1
        }
      ]
    },
    {
      "cell_type": "code",
      "source": [
        "!nvidia-smi -L\n",
        "\n"
      ],
      "metadata": {
        "id": "1BCzNRO4r7qo",
        "colab": {
          "base_uri": "https://localhost:8080/"
        },
        "outputId": "984f22bb-c95d-4788-c0cf-131aff19b474"
      },
      "execution_count": 2,
      "outputs": [
        {
          "output_type": "stream",
          "name": "stdout",
          "text": [
            "/bin/bash: nvidia-smi: command not found\n"
          ]
        }
      ]
    },
    {
      "cell_type": "code",
      "source": [],
      "metadata": {
        "id": "Y6tHJ4FYyyoY"
      },
      "execution_count": 2,
      "outputs": []
    },
    {
      "cell_type": "markdown",
      "source": [
        "**TESTING DATA SENSOR FOR FAULT DETECTION**"
      ],
      "metadata": {
        "id": "qNW5JMO8r8Jf"
      }
    },
    {
      "cell_type": "code",
      "source": [
        "import pandas as pd"
      ],
      "metadata": {
        "id": "qTiA4Hz4oX0S"
      },
      "execution_count": 3,
      "outputs": []
    },
    {
      "cell_type": "code",
      "source": [
        "path=\"/content/drive/MyDrive/sensor.csv\"\n",
        "df=pd.read_csv(path)"
      ],
      "metadata": {
        "id": "R4TVBgASsE-j"
      },
      "execution_count": 4,
      "outputs": []
    },
    {
      "cell_type": "code",
      "source": [
        "df.head(2)"
      ],
      "metadata": {
        "colab": {
          "base_uri": "https://localhost:8080/",
          "height": 205
        },
        "id": "A10lIR6AsRDT",
        "outputId": "f7b97786-ab22-4aa7-f584-b7b162469761"
      },
      "execution_count": 5,
      "outputs": [
        {
          "output_type": "execute_result",
          "data": {
            "text/plain": [
              "  class   aa_000  ab_000  ac_000  ad_000  ae_000  af_000  ag_000    ag_001  \\\n",
              "0   pos   762958     NaN     NaN     NaN     NaN     NaN   776.0  281128.0   \n",
              "1   pos  1053152     NaN     NaN     NaN     NaN     NaN     2.0       2.0   \n",
              "\n",
              "      ag_002  ...     ee_002     ee_003     ee_004     ee_005     ee_006  \\\n",
              "0  2186308.0  ...        NaN        NaN        NaN        NaN        NaN   \n",
              "1       30.0  ...  7093206.0  3379622.0  7362340.0  8442584.0  8120144.0   \n",
              "\n",
              "      ee_007     ee_008    ee_009  ef_000  eg_000  \n",
              "0        NaN        NaN       NaN     NaN     NaN  \n",
              "1  5082396.0  6259760.0  176752.0     NaN     NaN  \n",
              "\n",
              "[2 rows x 171 columns]"
            ],
            "text/html": [
              "\n",
              "  <div id=\"df-0da4b713-3931-49b0-8b1f-a6454640cb04\">\n",
              "    <div class=\"colab-df-container\">\n",
              "      <div>\n",
              "<style scoped>\n",
              "    .dataframe tbody tr th:only-of-type {\n",
              "        vertical-align: middle;\n",
              "    }\n",
              "\n",
              "    .dataframe tbody tr th {\n",
              "        vertical-align: top;\n",
              "    }\n",
              "\n",
              "    .dataframe thead th {\n",
              "        text-align: right;\n",
              "    }\n",
              "</style>\n",
              "<table border=\"1\" class=\"dataframe\">\n",
              "  <thead>\n",
              "    <tr style=\"text-align: right;\">\n",
              "      <th></th>\n",
              "      <th>class</th>\n",
              "      <th>aa_000</th>\n",
              "      <th>ab_000</th>\n",
              "      <th>ac_000</th>\n",
              "      <th>ad_000</th>\n",
              "      <th>ae_000</th>\n",
              "      <th>af_000</th>\n",
              "      <th>ag_000</th>\n",
              "      <th>ag_001</th>\n",
              "      <th>ag_002</th>\n",
              "      <th>...</th>\n",
              "      <th>ee_002</th>\n",
              "      <th>ee_003</th>\n",
              "      <th>ee_004</th>\n",
              "      <th>ee_005</th>\n",
              "      <th>ee_006</th>\n",
              "      <th>ee_007</th>\n",
              "      <th>ee_008</th>\n",
              "      <th>ee_009</th>\n",
              "      <th>ef_000</th>\n",
              "      <th>eg_000</th>\n",
              "    </tr>\n",
              "  </thead>\n",
              "  <tbody>\n",
              "    <tr>\n",
              "      <th>0</th>\n",
              "      <td>pos</td>\n",
              "      <td>762958</td>\n",
              "      <td>NaN</td>\n",
              "      <td>NaN</td>\n",
              "      <td>NaN</td>\n",
              "      <td>NaN</td>\n",
              "      <td>NaN</td>\n",
              "      <td>776.0</td>\n",
              "      <td>281128.0</td>\n",
              "      <td>2186308.0</td>\n",
              "      <td>...</td>\n",
              "      <td>NaN</td>\n",
              "      <td>NaN</td>\n",
              "      <td>NaN</td>\n",
              "      <td>NaN</td>\n",
              "      <td>NaN</td>\n",
              "      <td>NaN</td>\n",
              "      <td>NaN</td>\n",
              "      <td>NaN</td>\n",
              "      <td>NaN</td>\n",
              "      <td>NaN</td>\n",
              "    </tr>\n",
              "    <tr>\n",
              "      <th>1</th>\n",
              "      <td>pos</td>\n",
              "      <td>1053152</td>\n",
              "      <td>NaN</td>\n",
              "      <td>NaN</td>\n",
              "      <td>NaN</td>\n",
              "      <td>NaN</td>\n",
              "      <td>NaN</td>\n",
              "      <td>2.0</td>\n",
              "      <td>2.0</td>\n",
              "      <td>30.0</td>\n",
              "      <td>...</td>\n",
              "      <td>7093206.0</td>\n",
              "      <td>3379622.0</td>\n",
              "      <td>7362340.0</td>\n",
              "      <td>8442584.0</td>\n",
              "      <td>8120144.0</td>\n",
              "      <td>5082396.0</td>\n",
              "      <td>6259760.0</td>\n",
              "      <td>176752.0</td>\n",
              "      <td>NaN</td>\n",
              "      <td>NaN</td>\n",
              "    </tr>\n",
              "  </tbody>\n",
              "</table>\n",
              "<p>2 rows × 171 columns</p>\n",
              "</div>\n",
              "      <button class=\"colab-df-convert\" onclick=\"convertToInteractive('df-0da4b713-3931-49b0-8b1f-a6454640cb04')\"\n",
              "              title=\"Convert this dataframe to an interactive table.\"\n",
              "              style=\"display:none;\">\n",
              "        \n",
              "  <svg xmlns=\"http://www.w3.org/2000/svg\" height=\"24px\"viewBox=\"0 0 24 24\"\n",
              "       width=\"24px\">\n",
              "    <path d=\"M0 0h24v24H0V0z\" fill=\"none\"/>\n",
              "    <path d=\"M18.56 5.44l.94 2.06.94-2.06 2.06-.94-2.06-.94-.94-2.06-.94 2.06-2.06.94zm-11 1L8.5 8.5l.94-2.06 2.06-.94-2.06-.94L8.5 2.5l-.94 2.06-2.06.94zm10 10l.94 2.06.94-2.06 2.06-.94-2.06-.94-.94-2.06-.94 2.06-2.06.94z\"/><path d=\"M17.41 7.96l-1.37-1.37c-.4-.4-.92-.59-1.43-.59-.52 0-1.04.2-1.43.59L10.3 9.45l-7.72 7.72c-.78.78-.78 2.05 0 2.83L4 21.41c.39.39.9.59 1.41.59.51 0 1.02-.2 1.41-.59l7.78-7.78 2.81-2.81c.8-.78.8-2.07 0-2.86zM5.41 20L4 18.59l7.72-7.72 1.47 1.35L5.41 20z\"/>\n",
              "  </svg>\n",
              "      </button>\n",
              "      \n",
              "  <style>\n",
              "    .colab-df-container {\n",
              "      display:flex;\n",
              "      flex-wrap:wrap;\n",
              "      gap: 12px;\n",
              "    }\n",
              "\n",
              "    .colab-df-convert {\n",
              "      background-color: #E8F0FE;\n",
              "      border: none;\n",
              "      border-radius: 50%;\n",
              "      cursor: pointer;\n",
              "      display: none;\n",
              "      fill: #1967D2;\n",
              "      height: 32px;\n",
              "      padding: 0 0 0 0;\n",
              "      width: 32px;\n",
              "    }\n",
              "\n",
              "    .colab-df-convert:hover {\n",
              "      background-color: #E2EBFA;\n",
              "      box-shadow: 0px 1px 2px rgba(60, 64, 67, 0.3), 0px 1px 3px 1px rgba(60, 64, 67, 0.15);\n",
              "      fill: #174EA6;\n",
              "    }\n",
              "\n",
              "    [theme=dark] .colab-df-convert {\n",
              "      background-color: #3B4455;\n",
              "      fill: #D2E3FC;\n",
              "    }\n",
              "\n",
              "    [theme=dark] .colab-df-convert:hover {\n",
              "      background-color: #434B5C;\n",
              "      box-shadow: 0px 1px 3px 1px rgba(0, 0, 0, 0.15);\n",
              "      filter: drop-shadow(0px 1px 2px rgba(0, 0, 0, 0.3));\n",
              "      fill: #FFFFFF;\n",
              "    }\n",
              "  </style>\n",
              "\n",
              "      <script>\n",
              "        const buttonEl =\n",
              "          document.querySelector('#df-0da4b713-3931-49b0-8b1f-a6454640cb04 button.colab-df-convert');\n",
              "        buttonEl.style.display =\n",
              "          google.colab.kernel.accessAllowed ? 'block' : 'none';\n",
              "\n",
              "        async function convertToInteractive(key) {\n",
              "          const element = document.querySelector('#df-0da4b713-3931-49b0-8b1f-a6454640cb04');\n",
              "          const dataTable =\n",
              "            await google.colab.kernel.invokeFunction('convertToInteractive',\n",
              "                                                     [key], {});\n",
              "          if (!dataTable) return;\n",
              "\n",
              "          const docLinkHtml = 'Like what you see? Visit the ' +\n",
              "            '<a target=\"_blank\" href=https://colab.research.google.com/notebooks/data_table.ipynb>data table notebook</a>'\n",
              "            + ' to learn more about interactive tables.';\n",
              "          element.innerHTML = '';\n",
              "          dataTable['output_type'] = 'display_data';\n",
              "          await google.colab.output.renderOutput(dataTable, element);\n",
              "          const docLink = document.createElement('div');\n",
              "          docLink.innerHTML = docLinkHtml;\n",
              "          element.appendChild(docLink);\n",
              "        }\n",
              "      </script>\n",
              "    </div>\n",
              "  </div>\n",
              "  "
            ]
          },
          "metadata": {},
          "execution_count": 5
        }
      ]
    },
    {
      "cell_type": "code",
      "source": [
        "df.shape"
      ],
      "metadata": {
        "colab": {
          "base_uri": "https://localhost:8080/"
        },
        "id": "ddQWV5gItbP0",
        "outputId": "05c336f4-b0c0-43a2-bbd4-7a30edfd9304"
      },
      "execution_count": 6,
      "outputs": [
        {
          "output_type": "execute_result",
          "data": {
            "text/plain": [
              "(35001, 171)"
            ]
          },
          "metadata": {},
          "execution_count": 6
        }
      ]
    },
    {
      "cell_type": "code",
      "source": [
        "df.count()"
      ],
      "metadata": {
        "colab": {
          "base_uri": "https://localhost:8080/"
        },
        "id": "_RJbO812tbTx",
        "outputId": "0fae8928-7c85-4f88-b991-a71fa54a20df"
      },
      "execution_count": 7,
      "outputs": [
        {
          "output_type": "execute_result",
          "data": {
            "text/plain": [
              "class     35001\n",
              "aa_000    35001\n",
              "ab_000     8016\n",
              "ac_000    32883\n",
              "ad_000    26054\n",
              "          ...  \n",
              "ee_007    34631\n",
              "ee_008    34631\n",
              "ee_009    34631\n",
              "ef_000    33291\n",
              "eg_000    33292\n",
              "Length: 171, dtype: int64"
            ]
          },
          "metadata": {},
          "execution_count": 7
        }
      ]
    },
    {
      "cell_type": "code",
      "source": [
        "df.isnull().sum()"
      ],
      "metadata": {
        "colab": {
          "base_uri": "https://localhost:8080/"
        },
        "id": "TAn44mdasUX2",
        "outputId": "72ce862a-f22f-421d-bc66-266aaa662788"
      },
      "execution_count": 8,
      "outputs": [
        {
          "output_type": "execute_result",
          "data": {
            "text/plain": [
              "class         0\n",
              "aa_000        0\n",
              "ab_000    26985\n",
              "ac_000     2118\n",
              "ad_000     8947\n",
              "          ...  \n",
              "ee_007      370\n",
              "ee_008      370\n",
              "ee_009      370\n",
              "ef_000     1710\n",
              "eg_000     1709\n",
              "Length: 171, dtype: int64"
            ]
          },
          "metadata": {},
          "execution_count": 8
        }
      ]
    },
    {
      "cell_type": "code",
      "source": [
        "#df.value_counts()"
      ],
      "metadata": {
        "id": "wwZln5lnsYgd"
      },
      "execution_count": 9,
      "outputs": []
    },
    {
      "cell_type": "code",
      "source": [
        "df.index"
      ],
      "metadata": {
        "colab": {
          "base_uri": "https://localhost:8080/"
        },
        "id": "lowuo4aQsisn",
        "outputId": "a4fbf420-0b7b-4579-ed12-85fd7015fcd9"
      },
      "execution_count": 10,
      "outputs": [
        {
          "output_type": "execute_result",
          "data": {
            "text/plain": [
              "RangeIndex(start=0, stop=35001, step=1)"
            ]
          },
          "metadata": {},
          "execution_count": 10
        }
      ]
    },
    {
      "cell_type": "code",
      "source": [
        "df[\"class\"].value_counts()"
      ],
      "metadata": {
        "colab": {
          "base_uri": "https://localhost:8080/"
        },
        "id": "h5eKMvBgsxki",
        "outputId": "e2b70338-bbaf-41d7-cfa5-f9bd3f24147b"
      },
      "execution_count": 11,
      "outputs": [
        {
          "output_type": "execute_result",
          "data": {
            "text/plain": [
              "neg    33924\n",
              "pos     1077\n",
              "Name: class, dtype: int64"
            ]
          },
          "metadata": {},
          "execution_count": 11
        }
      ]
    },
    {
      "cell_type": "code",
      "source": [
        "missing_value_percentage = df.isna().sum().div(df.shape[0])*100\n",
        "missing_value_percentage"
      ],
      "metadata": {
        "colab": {
          "base_uri": "https://localhost:8080/"
        },
        "id": "DO3_ggX0tNTC",
        "outputId": "77850c09-6d10-4f8d-d01f-45c40e88f67d"
      },
      "execution_count": 12,
      "outputs": [
        {
          "output_type": "execute_result",
          "data": {
            "text/plain": [
              "class      0.000000\n",
              "aa_000     0.000000\n",
              "ab_000    77.097797\n",
              "ac_000     6.051256\n",
              "ad_000    25.562127\n",
              "            ...    \n",
              "ee_007     1.057113\n",
              "ee_008     1.057113\n",
              "ee_009     1.057113\n",
              "ef_000     4.885575\n",
              "eg_000     4.882718\n",
              "Length: 171, dtype: float64"
            ]
          },
          "metadata": {},
          "execution_count": 12
        }
      ]
    },
    {
      "cell_type": "code",
      "source": [
        "missing_value_percentage.to_frame()"
      ],
      "metadata": {
        "colab": {
          "base_uri": "https://localhost:8080/",
          "height": 423
        },
        "id": "8nDHZ4HsuOLu",
        "outputId": "d9ad6145-90f0-496b-8803-670864b8a71d"
      },
      "execution_count": 13,
      "outputs": [
        {
          "output_type": "execute_result",
          "data": {
            "text/plain": [
              "                0\n",
              "class    0.000000\n",
              "aa_000   0.000000\n",
              "ab_000  77.097797\n",
              "ac_000   6.051256\n",
              "ad_000  25.562127\n",
              "...           ...\n",
              "ee_007   1.057113\n",
              "ee_008   1.057113\n",
              "ee_009   1.057113\n",
              "ef_000   4.885575\n",
              "eg_000   4.882718\n",
              "\n",
              "[171 rows x 1 columns]"
            ],
            "text/html": [
              "\n",
              "  <div id=\"df-1eaf2d5c-6007-4757-beb0-0d448c9ad8e8\">\n",
              "    <div class=\"colab-df-container\">\n",
              "      <div>\n",
              "<style scoped>\n",
              "    .dataframe tbody tr th:only-of-type {\n",
              "        vertical-align: middle;\n",
              "    }\n",
              "\n",
              "    .dataframe tbody tr th {\n",
              "        vertical-align: top;\n",
              "    }\n",
              "\n",
              "    .dataframe thead th {\n",
              "        text-align: right;\n",
              "    }\n",
              "</style>\n",
              "<table border=\"1\" class=\"dataframe\">\n",
              "  <thead>\n",
              "    <tr style=\"text-align: right;\">\n",
              "      <th></th>\n",
              "      <th>0</th>\n",
              "    </tr>\n",
              "  </thead>\n",
              "  <tbody>\n",
              "    <tr>\n",
              "      <th>class</th>\n",
              "      <td>0.000000</td>\n",
              "    </tr>\n",
              "    <tr>\n",
              "      <th>aa_000</th>\n",
              "      <td>0.000000</td>\n",
              "    </tr>\n",
              "    <tr>\n",
              "      <th>ab_000</th>\n",
              "      <td>77.097797</td>\n",
              "    </tr>\n",
              "    <tr>\n",
              "      <th>ac_000</th>\n",
              "      <td>6.051256</td>\n",
              "    </tr>\n",
              "    <tr>\n",
              "      <th>ad_000</th>\n",
              "      <td>25.562127</td>\n",
              "    </tr>\n",
              "    <tr>\n",
              "      <th>...</th>\n",
              "      <td>...</td>\n",
              "    </tr>\n",
              "    <tr>\n",
              "      <th>ee_007</th>\n",
              "      <td>1.057113</td>\n",
              "    </tr>\n",
              "    <tr>\n",
              "      <th>ee_008</th>\n",
              "      <td>1.057113</td>\n",
              "    </tr>\n",
              "    <tr>\n",
              "      <th>ee_009</th>\n",
              "      <td>1.057113</td>\n",
              "    </tr>\n",
              "    <tr>\n",
              "      <th>ef_000</th>\n",
              "      <td>4.885575</td>\n",
              "    </tr>\n",
              "    <tr>\n",
              "      <th>eg_000</th>\n",
              "      <td>4.882718</td>\n",
              "    </tr>\n",
              "  </tbody>\n",
              "</table>\n",
              "<p>171 rows × 1 columns</p>\n",
              "</div>\n",
              "      <button class=\"colab-df-convert\" onclick=\"convertToInteractive('df-1eaf2d5c-6007-4757-beb0-0d448c9ad8e8')\"\n",
              "              title=\"Convert this dataframe to an interactive table.\"\n",
              "              style=\"display:none;\">\n",
              "        \n",
              "  <svg xmlns=\"http://www.w3.org/2000/svg\" height=\"24px\"viewBox=\"0 0 24 24\"\n",
              "       width=\"24px\">\n",
              "    <path d=\"M0 0h24v24H0V0z\" fill=\"none\"/>\n",
              "    <path d=\"M18.56 5.44l.94 2.06.94-2.06 2.06-.94-2.06-.94-.94-2.06-.94 2.06-2.06.94zm-11 1L8.5 8.5l.94-2.06 2.06-.94-2.06-.94L8.5 2.5l-.94 2.06-2.06.94zm10 10l.94 2.06.94-2.06 2.06-.94-2.06-.94-.94-2.06-.94 2.06-2.06.94z\"/><path d=\"M17.41 7.96l-1.37-1.37c-.4-.4-.92-.59-1.43-.59-.52 0-1.04.2-1.43.59L10.3 9.45l-7.72 7.72c-.78.78-.78 2.05 0 2.83L4 21.41c.39.39.9.59 1.41.59.51 0 1.02-.2 1.41-.59l7.78-7.78 2.81-2.81c.8-.78.8-2.07 0-2.86zM5.41 20L4 18.59l7.72-7.72 1.47 1.35L5.41 20z\"/>\n",
              "  </svg>\n",
              "      </button>\n",
              "      \n",
              "  <style>\n",
              "    .colab-df-container {\n",
              "      display:flex;\n",
              "      flex-wrap:wrap;\n",
              "      gap: 12px;\n",
              "    }\n",
              "\n",
              "    .colab-df-convert {\n",
              "      background-color: #E8F0FE;\n",
              "      border: none;\n",
              "      border-radius: 50%;\n",
              "      cursor: pointer;\n",
              "      display: none;\n",
              "      fill: #1967D2;\n",
              "      height: 32px;\n",
              "      padding: 0 0 0 0;\n",
              "      width: 32px;\n",
              "    }\n",
              "\n",
              "    .colab-df-convert:hover {\n",
              "      background-color: #E2EBFA;\n",
              "      box-shadow: 0px 1px 2px rgba(60, 64, 67, 0.3), 0px 1px 3px 1px rgba(60, 64, 67, 0.15);\n",
              "      fill: #174EA6;\n",
              "    }\n",
              "\n",
              "    [theme=dark] .colab-df-convert {\n",
              "      background-color: #3B4455;\n",
              "      fill: #D2E3FC;\n",
              "    }\n",
              "\n",
              "    [theme=dark] .colab-df-convert:hover {\n",
              "      background-color: #434B5C;\n",
              "      box-shadow: 0px 1px 3px 1px rgba(0, 0, 0, 0.15);\n",
              "      filter: drop-shadow(0px 1px 2px rgba(0, 0, 0, 0.3));\n",
              "      fill: #FFFFFF;\n",
              "    }\n",
              "  </style>\n",
              "\n",
              "      <script>\n",
              "        const buttonEl =\n",
              "          document.querySelector('#df-1eaf2d5c-6007-4757-beb0-0d448c9ad8e8 button.colab-df-convert');\n",
              "        buttonEl.style.display =\n",
              "          google.colab.kernel.accessAllowed ? 'block' : 'none';\n",
              "\n",
              "        async function convertToInteractive(key) {\n",
              "          const element = document.querySelector('#df-1eaf2d5c-6007-4757-beb0-0d448c9ad8e8');\n",
              "          const dataTable =\n",
              "            await google.colab.kernel.invokeFunction('convertToInteractive',\n",
              "                                                     [key], {});\n",
              "          if (!dataTable) return;\n",
              "\n",
              "          const docLinkHtml = 'Like what you see? Visit the ' +\n",
              "            '<a target=\"_blank\" href=https://colab.research.google.com/notebooks/data_table.ipynb>data table notebook</a>'\n",
              "            + ' to learn more about interactive tables.';\n",
              "          element.innerHTML = '';\n",
              "          dataTable['output_type'] = 'display_data';\n",
              "          await google.colab.output.renderOutput(dataTable, element);\n",
              "          const docLink = document.createElement('div');\n",
              "          docLink.innerHTML = docLinkHtml;\n",
              "          element.appendChild(docLink);\n",
              "        }\n",
              "      </script>\n",
              "    </div>\n",
              "  </div>\n",
              "  "
            ]
          },
          "metadata": {},
          "execution_count": 13
        }
      ]
    },
    {
      "cell_type": "code",
      "source": [
        "pd.DataFrame(missing_value_percentage)"
      ],
      "metadata": {
        "colab": {
          "base_uri": "https://localhost:8080/",
          "height": 423
        },
        "id": "SjDA4BybuC7s",
        "outputId": "8c608121-84e7-4309-f858-3407cba0efb6"
      },
      "execution_count": 14,
      "outputs": [
        {
          "output_type": "execute_result",
          "data": {
            "text/plain": [
              "                0\n",
              "class    0.000000\n",
              "aa_000   0.000000\n",
              "ab_000  77.097797\n",
              "ac_000   6.051256\n",
              "ad_000  25.562127\n",
              "...           ...\n",
              "ee_007   1.057113\n",
              "ee_008   1.057113\n",
              "ee_009   1.057113\n",
              "ef_000   4.885575\n",
              "eg_000   4.882718\n",
              "\n",
              "[171 rows x 1 columns]"
            ],
            "text/html": [
              "\n",
              "  <div id=\"df-a3221478-b0cf-4eff-90e3-fa32f7150e37\">\n",
              "    <div class=\"colab-df-container\">\n",
              "      <div>\n",
              "<style scoped>\n",
              "    .dataframe tbody tr th:only-of-type {\n",
              "        vertical-align: middle;\n",
              "    }\n",
              "\n",
              "    .dataframe tbody tr th {\n",
              "        vertical-align: top;\n",
              "    }\n",
              "\n",
              "    .dataframe thead th {\n",
              "        text-align: right;\n",
              "    }\n",
              "</style>\n",
              "<table border=\"1\" class=\"dataframe\">\n",
              "  <thead>\n",
              "    <tr style=\"text-align: right;\">\n",
              "      <th></th>\n",
              "      <th>0</th>\n",
              "    </tr>\n",
              "  </thead>\n",
              "  <tbody>\n",
              "    <tr>\n",
              "      <th>class</th>\n",
              "      <td>0.000000</td>\n",
              "    </tr>\n",
              "    <tr>\n",
              "      <th>aa_000</th>\n",
              "      <td>0.000000</td>\n",
              "    </tr>\n",
              "    <tr>\n",
              "      <th>ab_000</th>\n",
              "      <td>77.097797</td>\n",
              "    </tr>\n",
              "    <tr>\n",
              "      <th>ac_000</th>\n",
              "      <td>6.051256</td>\n",
              "    </tr>\n",
              "    <tr>\n",
              "      <th>ad_000</th>\n",
              "      <td>25.562127</td>\n",
              "    </tr>\n",
              "    <tr>\n",
              "      <th>...</th>\n",
              "      <td>...</td>\n",
              "    </tr>\n",
              "    <tr>\n",
              "      <th>ee_007</th>\n",
              "      <td>1.057113</td>\n",
              "    </tr>\n",
              "    <tr>\n",
              "      <th>ee_008</th>\n",
              "      <td>1.057113</td>\n",
              "    </tr>\n",
              "    <tr>\n",
              "      <th>ee_009</th>\n",
              "      <td>1.057113</td>\n",
              "    </tr>\n",
              "    <tr>\n",
              "      <th>ef_000</th>\n",
              "      <td>4.885575</td>\n",
              "    </tr>\n",
              "    <tr>\n",
              "      <th>eg_000</th>\n",
              "      <td>4.882718</td>\n",
              "    </tr>\n",
              "  </tbody>\n",
              "</table>\n",
              "<p>171 rows × 1 columns</p>\n",
              "</div>\n",
              "      <button class=\"colab-df-convert\" onclick=\"convertToInteractive('df-a3221478-b0cf-4eff-90e3-fa32f7150e37')\"\n",
              "              title=\"Convert this dataframe to an interactive table.\"\n",
              "              style=\"display:none;\">\n",
              "        \n",
              "  <svg xmlns=\"http://www.w3.org/2000/svg\" height=\"24px\"viewBox=\"0 0 24 24\"\n",
              "       width=\"24px\">\n",
              "    <path d=\"M0 0h24v24H0V0z\" fill=\"none\"/>\n",
              "    <path d=\"M18.56 5.44l.94 2.06.94-2.06 2.06-.94-2.06-.94-.94-2.06-.94 2.06-2.06.94zm-11 1L8.5 8.5l.94-2.06 2.06-.94-2.06-.94L8.5 2.5l-.94 2.06-2.06.94zm10 10l.94 2.06.94-2.06 2.06-.94-2.06-.94-.94-2.06-.94 2.06-2.06.94z\"/><path d=\"M17.41 7.96l-1.37-1.37c-.4-.4-.92-.59-1.43-.59-.52 0-1.04.2-1.43.59L10.3 9.45l-7.72 7.72c-.78.78-.78 2.05 0 2.83L4 21.41c.39.39.9.59 1.41.59.51 0 1.02-.2 1.41-.59l7.78-7.78 2.81-2.81c.8-.78.8-2.07 0-2.86zM5.41 20L4 18.59l7.72-7.72 1.47 1.35L5.41 20z\"/>\n",
              "  </svg>\n",
              "      </button>\n",
              "      \n",
              "  <style>\n",
              "    .colab-df-container {\n",
              "      display:flex;\n",
              "      flex-wrap:wrap;\n",
              "      gap: 12px;\n",
              "    }\n",
              "\n",
              "    .colab-df-convert {\n",
              "      background-color: #E8F0FE;\n",
              "      border: none;\n",
              "      border-radius: 50%;\n",
              "      cursor: pointer;\n",
              "      display: none;\n",
              "      fill: #1967D2;\n",
              "      height: 32px;\n",
              "      padding: 0 0 0 0;\n",
              "      width: 32px;\n",
              "    }\n",
              "\n",
              "    .colab-df-convert:hover {\n",
              "      background-color: #E2EBFA;\n",
              "      box-shadow: 0px 1px 2px rgba(60, 64, 67, 0.3), 0px 1px 3px 1px rgba(60, 64, 67, 0.15);\n",
              "      fill: #174EA6;\n",
              "    }\n",
              "\n",
              "    [theme=dark] .colab-df-convert {\n",
              "      background-color: #3B4455;\n",
              "      fill: #D2E3FC;\n",
              "    }\n",
              "\n",
              "    [theme=dark] .colab-df-convert:hover {\n",
              "      background-color: #434B5C;\n",
              "      box-shadow: 0px 1px 3px 1px rgba(0, 0, 0, 0.15);\n",
              "      filter: drop-shadow(0px 1px 2px rgba(0, 0, 0, 0.3));\n",
              "      fill: #FFFFFF;\n",
              "    }\n",
              "  </style>\n",
              "\n",
              "      <script>\n",
              "        const buttonEl =\n",
              "          document.querySelector('#df-a3221478-b0cf-4eff-90e3-fa32f7150e37 button.colab-df-convert');\n",
              "        buttonEl.style.display =\n",
              "          google.colab.kernel.accessAllowed ? 'block' : 'none';\n",
              "\n",
              "        async function convertToInteractive(key) {\n",
              "          const element = document.querySelector('#df-a3221478-b0cf-4eff-90e3-fa32f7150e37');\n",
              "          const dataTable =\n",
              "            await google.colab.kernel.invokeFunction('convertToInteractive',\n",
              "                                                     [key], {});\n",
              "          if (!dataTable) return;\n",
              "\n",
              "          const docLinkHtml = 'Like what you see? Visit the ' +\n",
              "            '<a target=\"_blank\" href=https://colab.research.google.com/notebooks/data_table.ipynb>data table notebook</a>'\n",
              "            + ' to learn more about interactive tables.';\n",
              "          element.innerHTML = '';\n",
              "          dataTable['output_type'] = 'display_data';\n",
              "          await google.colab.output.renderOutput(dataTable, element);\n",
              "          const docLink = document.createElement('div');\n",
              "          docLink.innerHTML = docLinkHtml;\n",
              "          element.appendChild(docLink);\n",
              "        }\n",
              "      </script>\n",
              "    </div>\n",
              "  </div>\n",
              "  "
            ]
          },
          "metadata": {},
          "execution_count": 14
        }
      ]
    },
    {
      "cell_type": "code",
      "source": [
        "col_to_drop=missing_value_percentage[missing_value_percentage>70]"
      ],
      "metadata": {
        "id": "zqTAlo_3vq-q"
      },
      "execution_count": 15,
      "outputs": []
    },
    {
      "cell_type": "code",
      "source": [
        "col_to_drop.to_frame()"
      ],
      "metadata": {
        "colab": {
          "base_uri": "https://localhost:8080/",
          "height": 269
        },
        "id": "aGhyW9pCvxPa",
        "outputId": "8e835b41-d9b7-4a05-8215-4320c4de2e52"
      },
      "execution_count": 16,
      "outputs": [
        {
          "output_type": "execute_result",
          "data": {
            "text/plain": [
              "                0\n",
              "ab_000  77.097797\n",
              "bn_000  72.537927\n",
              "bo_000  76.309248\n",
              "bp_000  78.574898\n",
              "bq_000  80.297706\n",
              "br_000  81.211965\n",
              "cr_000  77.097797"
            ],
            "text/html": [
              "\n",
              "  <div id=\"df-56e0ebd6-d903-41e1-a9f7-13c663eb6bc9\">\n",
              "    <div class=\"colab-df-container\">\n",
              "      <div>\n",
              "<style scoped>\n",
              "    .dataframe tbody tr th:only-of-type {\n",
              "        vertical-align: middle;\n",
              "    }\n",
              "\n",
              "    .dataframe tbody tr th {\n",
              "        vertical-align: top;\n",
              "    }\n",
              "\n",
              "    .dataframe thead th {\n",
              "        text-align: right;\n",
              "    }\n",
              "</style>\n",
              "<table border=\"1\" class=\"dataframe\">\n",
              "  <thead>\n",
              "    <tr style=\"text-align: right;\">\n",
              "      <th></th>\n",
              "      <th>0</th>\n",
              "    </tr>\n",
              "  </thead>\n",
              "  <tbody>\n",
              "    <tr>\n",
              "      <th>ab_000</th>\n",
              "      <td>77.097797</td>\n",
              "    </tr>\n",
              "    <tr>\n",
              "      <th>bn_000</th>\n",
              "      <td>72.537927</td>\n",
              "    </tr>\n",
              "    <tr>\n",
              "      <th>bo_000</th>\n",
              "      <td>76.309248</td>\n",
              "    </tr>\n",
              "    <tr>\n",
              "      <th>bp_000</th>\n",
              "      <td>78.574898</td>\n",
              "    </tr>\n",
              "    <tr>\n",
              "      <th>bq_000</th>\n",
              "      <td>80.297706</td>\n",
              "    </tr>\n",
              "    <tr>\n",
              "      <th>br_000</th>\n",
              "      <td>81.211965</td>\n",
              "    </tr>\n",
              "    <tr>\n",
              "      <th>cr_000</th>\n",
              "      <td>77.097797</td>\n",
              "    </tr>\n",
              "  </tbody>\n",
              "</table>\n",
              "</div>\n",
              "      <button class=\"colab-df-convert\" onclick=\"convertToInteractive('df-56e0ebd6-d903-41e1-a9f7-13c663eb6bc9')\"\n",
              "              title=\"Convert this dataframe to an interactive table.\"\n",
              "              style=\"display:none;\">\n",
              "        \n",
              "  <svg xmlns=\"http://www.w3.org/2000/svg\" height=\"24px\"viewBox=\"0 0 24 24\"\n",
              "       width=\"24px\">\n",
              "    <path d=\"M0 0h24v24H0V0z\" fill=\"none\"/>\n",
              "    <path d=\"M18.56 5.44l.94 2.06.94-2.06 2.06-.94-2.06-.94-.94-2.06-.94 2.06-2.06.94zm-11 1L8.5 8.5l.94-2.06 2.06-.94-2.06-.94L8.5 2.5l-.94 2.06-2.06.94zm10 10l.94 2.06.94-2.06 2.06-.94-2.06-.94-.94-2.06-.94 2.06-2.06.94z\"/><path d=\"M17.41 7.96l-1.37-1.37c-.4-.4-.92-.59-1.43-.59-.52 0-1.04.2-1.43.59L10.3 9.45l-7.72 7.72c-.78.78-.78 2.05 0 2.83L4 21.41c.39.39.9.59 1.41.59.51 0 1.02-.2 1.41-.59l7.78-7.78 2.81-2.81c.8-.78.8-2.07 0-2.86zM5.41 20L4 18.59l7.72-7.72 1.47 1.35L5.41 20z\"/>\n",
              "  </svg>\n",
              "      </button>\n",
              "      \n",
              "  <style>\n",
              "    .colab-df-container {\n",
              "      display:flex;\n",
              "      flex-wrap:wrap;\n",
              "      gap: 12px;\n",
              "    }\n",
              "\n",
              "    .colab-df-convert {\n",
              "      background-color: #E8F0FE;\n",
              "      border: none;\n",
              "      border-radius: 50%;\n",
              "      cursor: pointer;\n",
              "      display: none;\n",
              "      fill: #1967D2;\n",
              "      height: 32px;\n",
              "      padding: 0 0 0 0;\n",
              "      width: 32px;\n",
              "    }\n",
              "\n",
              "    .colab-df-convert:hover {\n",
              "      background-color: #E2EBFA;\n",
              "      box-shadow: 0px 1px 2px rgba(60, 64, 67, 0.3), 0px 1px 3px 1px rgba(60, 64, 67, 0.15);\n",
              "      fill: #174EA6;\n",
              "    }\n",
              "\n",
              "    [theme=dark] .colab-df-convert {\n",
              "      background-color: #3B4455;\n",
              "      fill: #D2E3FC;\n",
              "    }\n",
              "\n",
              "    [theme=dark] .colab-df-convert:hover {\n",
              "      background-color: #434B5C;\n",
              "      box-shadow: 0px 1px 3px 1px rgba(0, 0, 0, 0.15);\n",
              "      filter: drop-shadow(0px 1px 2px rgba(0, 0, 0, 0.3));\n",
              "      fill: #FFFFFF;\n",
              "    }\n",
              "  </style>\n",
              "\n",
              "      <script>\n",
              "        const buttonEl =\n",
              "          document.querySelector('#df-56e0ebd6-d903-41e1-a9f7-13c663eb6bc9 button.colab-df-convert');\n",
              "        buttonEl.style.display =\n",
              "          google.colab.kernel.accessAllowed ? 'block' : 'none';\n",
              "\n",
              "        async function convertToInteractive(key) {\n",
              "          const element = document.querySelector('#df-56e0ebd6-d903-41e1-a9f7-13c663eb6bc9');\n",
              "          const dataTable =\n",
              "            await google.colab.kernel.invokeFunction('convertToInteractive',\n",
              "                                                     [key], {});\n",
              "          if (!dataTable) return;\n",
              "\n",
              "          const docLinkHtml = 'Like what you see? Visit the ' +\n",
              "            '<a target=\"_blank\" href=https://colab.research.google.com/notebooks/data_table.ipynb>data table notebook</a>'\n",
              "            + ' to learn more about interactive tables.';\n",
              "          element.innerHTML = '';\n",
              "          dataTable['output_type'] = 'display_data';\n",
              "          await google.colab.output.renderOutput(dataTable, element);\n",
              "          const docLink = document.createElement('div');\n",
              "          docLink.innerHTML = docLinkHtml;\n",
              "          element.appendChild(docLink);\n",
              "        }\n",
              "      </script>\n",
              "    </div>\n",
              "  </div>\n",
              "  "
            ]
          },
          "metadata": {},
          "execution_count": 16
        }
      ]
    },
    {
      "cell_type": "code",
      "source": [
        "new_dataset = df.drop(col_to_drop.index, axis=1)"
      ],
      "metadata": {
        "id": "JIY768DCwHMO"
      },
      "execution_count": 17,
      "outputs": []
    },
    {
      "cell_type": "code",
      "source": [
        "new_dataset.head(1)"
      ],
      "metadata": {
        "colab": {
          "base_uri": "https://localhost:8080/",
          "height": 110
        },
        "id": "wLd3Enxywi0Z",
        "outputId": "c8b2c273-9886-43cc-b7c5-513d40807929"
      },
      "execution_count": 18,
      "outputs": [
        {
          "output_type": "execute_result",
          "data": {
            "text/plain": [
              "  class  aa_000  ac_000  ad_000  ae_000  af_000  ag_000    ag_001     ag_002  \\\n",
              "0   pos  762958     NaN     NaN     NaN     NaN   776.0  281128.0  2186308.0   \n",
              "\n",
              "      ag_003  ...  ee_002  ee_003  ee_004  ee_005  ee_006  ee_007  ee_008  \\\n",
              "0  8123016.0  ...     NaN     NaN     NaN     NaN     NaN     NaN     NaN   \n",
              "\n",
              "   ee_009  ef_000  eg_000  \n",
              "0     NaN     NaN     NaN  \n",
              "\n",
              "[1 rows x 164 columns]"
            ],
            "text/html": [
              "\n",
              "  <div id=\"df-e10dd9c1-9eb2-48d9-b865-e7590adcc628\">\n",
              "    <div class=\"colab-df-container\">\n",
              "      <div>\n",
              "<style scoped>\n",
              "    .dataframe tbody tr th:only-of-type {\n",
              "        vertical-align: middle;\n",
              "    }\n",
              "\n",
              "    .dataframe tbody tr th {\n",
              "        vertical-align: top;\n",
              "    }\n",
              "\n",
              "    .dataframe thead th {\n",
              "        text-align: right;\n",
              "    }\n",
              "</style>\n",
              "<table border=\"1\" class=\"dataframe\">\n",
              "  <thead>\n",
              "    <tr style=\"text-align: right;\">\n",
              "      <th></th>\n",
              "      <th>class</th>\n",
              "      <th>aa_000</th>\n",
              "      <th>ac_000</th>\n",
              "      <th>ad_000</th>\n",
              "      <th>ae_000</th>\n",
              "      <th>af_000</th>\n",
              "      <th>ag_000</th>\n",
              "      <th>ag_001</th>\n",
              "      <th>ag_002</th>\n",
              "      <th>ag_003</th>\n",
              "      <th>...</th>\n",
              "      <th>ee_002</th>\n",
              "      <th>ee_003</th>\n",
              "      <th>ee_004</th>\n",
              "      <th>ee_005</th>\n",
              "      <th>ee_006</th>\n",
              "      <th>ee_007</th>\n",
              "      <th>ee_008</th>\n",
              "      <th>ee_009</th>\n",
              "      <th>ef_000</th>\n",
              "      <th>eg_000</th>\n",
              "    </tr>\n",
              "  </thead>\n",
              "  <tbody>\n",
              "    <tr>\n",
              "      <th>0</th>\n",
              "      <td>pos</td>\n",
              "      <td>762958</td>\n",
              "      <td>NaN</td>\n",
              "      <td>NaN</td>\n",
              "      <td>NaN</td>\n",
              "      <td>NaN</td>\n",
              "      <td>776.0</td>\n",
              "      <td>281128.0</td>\n",
              "      <td>2186308.0</td>\n",
              "      <td>8123016.0</td>\n",
              "      <td>...</td>\n",
              "      <td>NaN</td>\n",
              "      <td>NaN</td>\n",
              "      <td>NaN</td>\n",
              "      <td>NaN</td>\n",
              "      <td>NaN</td>\n",
              "      <td>NaN</td>\n",
              "      <td>NaN</td>\n",
              "      <td>NaN</td>\n",
              "      <td>NaN</td>\n",
              "      <td>NaN</td>\n",
              "    </tr>\n",
              "  </tbody>\n",
              "</table>\n",
              "<p>1 rows × 164 columns</p>\n",
              "</div>\n",
              "      <button class=\"colab-df-convert\" onclick=\"convertToInteractive('df-e10dd9c1-9eb2-48d9-b865-e7590adcc628')\"\n",
              "              title=\"Convert this dataframe to an interactive table.\"\n",
              "              style=\"display:none;\">\n",
              "        \n",
              "  <svg xmlns=\"http://www.w3.org/2000/svg\" height=\"24px\"viewBox=\"0 0 24 24\"\n",
              "       width=\"24px\">\n",
              "    <path d=\"M0 0h24v24H0V0z\" fill=\"none\"/>\n",
              "    <path d=\"M18.56 5.44l.94 2.06.94-2.06 2.06-.94-2.06-.94-.94-2.06-.94 2.06-2.06.94zm-11 1L8.5 8.5l.94-2.06 2.06-.94-2.06-.94L8.5 2.5l-.94 2.06-2.06.94zm10 10l.94 2.06.94-2.06 2.06-.94-2.06-.94-.94-2.06-.94 2.06-2.06.94z\"/><path d=\"M17.41 7.96l-1.37-1.37c-.4-.4-.92-.59-1.43-.59-.52 0-1.04.2-1.43.59L10.3 9.45l-7.72 7.72c-.78.78-.78 2.05 0 2.83L4 21.41c.39.39.9.59 1.41.59.51 0 1.02-.2 1.41-.59l7.78-7.78 2.81-2.81c.8-.78.8-2.07 0-2.86zM5.41 20L4 18.59l7.72-7.72 1.47 1.35L5.41 20z\"/>\n",
              "  </svg>\n",
              "      </button>\n",
              "      \n",
              "  <style>\n",
              "    .colab-df-container {\n",
              "      display:flex;\n",
              "      flex-wrap:wrap;\n",
              "      gap: 12px;\n",
              "    }\n",
              "\n",
              "    .colab-df-convert {\n",
              "      background-color: #E8F0FE;\n",
              "      border: none;\n",
              "      border-radius: 50%;\n",
              "      cursor: pointer;\n",
              "      display: none;\n",
              "      fill: #1967D2;\n",
              "      height: 32px;\n",
              "      padding: 0 0 0 0;\n",
              "      width: 32px;\n",
              "    }\n",
              "\n",
              "    .colab-df-convert:hover {\n",
              "      background-color: #E2EBFA;\n",
              "      box-shadow: 0px 1px 2px rgba(60, 64, 67, 0.3), 0px 1px 3px 1px rgba(60, 64, 67, 0.15);\n",
              "      fill: #174EA6;\n",
              "    }\n",
              "\n",
              "    [theme=dark] .colab-df-convert {\n",
              "      background-color: #3B4455;\n",
              "      fill: #D2E3FC;\n",
              "    }\n",
              "\n",
              "    [theme=dark] .colab-df-convert:hover {\n",
              "      background-color: #434B5C;\n",
              "      box-shadow: 0px 1px 3px 1px rgba(0, 0, 0, 0.15);\n",
              "      filter: drop-shadow(0px 1px 2px rgba(0, 0, 0, 0.3));\n",
              "      fill: #FFFFFF;\n",
              "    }\n",
              "  </style>\n",
              "\n",
              "      <script>\n",
              "        const buttonEl =\n",
              "          document.querySelector('#df-e10dd9c1-9eb2-48d9-b865-e7590adcc628 button.colab-df-convert');\n",
              "        buttonEl.style.display =\n",
              "          google.colab.kernel.accessAllowed ? 'block' : 'none';\n",
              "\n",
              "        async function convertToInteractive(key) {\n",
              "          const element = document.querySelector('#df-e10dd9c1-9eb2-48d9-b865-e7590adcc628');\n",
              "          const dataTable =\n",
              "            await google.colab.kernel.invokeFunction('convertToInteractive',\n",
              "                                                     [key], {});\n",
              "          if (!dataTable) return;\n",
              "\n",
              "          const docLinkHtml = 'Like what you see? Visit the ' +\n",
              "            '<a target=\"_blank\" href=https://colab.research.google.com/notebooks/data_table.ipynb>data table notebook</a>'\n",
              "            + ' to learn more about interactive tables.';\n",
              "          element.innerHTML = '';\n",
              "          dataTable['output_type'] = 'display_data';\n",
              "          await google.colab.output.renderOutput(dataTable, element);\n",
              "          const docLink = document.createElement('div');\n",
              "          docLink.innerHTML = docLinkHtml;\n",
              "          element.appendChild(docLink);\n",
              "        }\n",
              "      </script>\n",
              "    </div>\n",
              "  </div>\n",
              "  "
            ]
          },
          "metadata": {},
          "execution_count": 18
        }
      ]
    },
    {
      "cell_type": "code",
      "source": [
        "from sklearn.preprocessing import RobustScaler\n",
        "from sklearn.impute import SimpleImputer\n",
        "from sklearn.pipeline import Pipeline\n",
        "RobustScaler=SimpleImputer(strategy=\"constant\", fill_value=0)\n",
        "SimpleImputer=SimpleImputer()"
      ],
      "metadata": {
        "id": "XOAvo5BsyPIP"
      },
      "execution_count": 19,
      "outputs": []
    },
    {
      "cell_type": "code",
      "source": [
        "X= new_dataset.drop(columns=\"class\",axis=1)\n",
        "y = new_dataset[\"class\"]"
      ],
      "metadata": {
        "id": "8esdn6JtwoXc"
      },
      "execution_count": 20,
      "outputs": []
    },
    {
      "cell_type": "code",
      "source": [
        "class  TargetValueMapping:\n",
        "    def __init__(self):\n",
        "        self.neg: int = 0\n",
        "        self.pos: int = 1\n",
        "    def to_dict(self):\n",
        "        return self.__dict__"
      ],
      "metadata": {
        "id": "yWBSCmEZ21IB"
      },
      "execution_count": 21,
      "outputs": []
    },
    {
      "cell_type": "code",
      "source": [
        "TargetValueMapping().to_dict()"
      ],
      "metadata": {
        "colab": {
          "base_uri": "https://localhost:8080/"
        },
        "id": "s2wEHYd_3THK",
        "outputId": "cbbfcd4e-cd92-4a34-b2b3-fc3007b9207b"
      },
      "execution_count": 22,
      "outputs": [
        {
          "output_type": "execute_result",
          "data": {
            "text/plain": [
              "{'neg': 0, 'pos': 1}"
            ]
          },
          "metadata": {},
          "execution_count": 22
        }
      ]
    },
    {
      "cell_type": "code",
      "source": [
        "Y=y.replace(TargetValueMapping().to_dict())"
      ],
      "metadata": {
        "id": "FUwvuzM-33Xc"
      },
      "execution_count": 23,
      "outputs": []
    },
    {
      "cell_type": "code",
      "source": [
        "Y.head(2)"
      ],
      "metadata": {
        "colab": {
          "base_uri": "https://localhost:8080/"
        },
        "id": "PfZI6Z4T4IsB",
        "outputId": "0a0db8e8-bd17-4bd1-e134-c11d61855d81"
      },
      "execution_count": 24,
      "outputs": [
        {
          "output_type": "execute_result",
          "data": {
            "text/plain": [
              "0    1\n",
              "1    1\n",
              "Name: class, dtype: int64"
            ]
          },
          "metadata": {},
          "execution_count": 24
        }
      ]
    },
    {
      "cell_type": "code",
      "source": [
        "from sklearn.model_selection import train_test_split\n",
        "x_train, x_test, y_train, y_test = train_test_split(X,Y,test_size=.2, random_state=13)"
      ],
      "metadata": {
        "id": "y3VGlFjvw6fz"
      },
      "execution_count": 25,
      "outputs": []
    },
    {
      "cell_type": "code",
      "source": [
        "pipe = Pipeline([('RobustScaler', RobustScaler), ('SimpleImputer', SimpleImputer)])\n",
        "input_feature_train_arr=pipe.fit_transform(x_train)\n",
        "target_feature_train_df = y_train"
      ],
      "metadata": {
        "id": "OssrYYyXzIh9"
      },
      "execution_count": 26,
      "outputs": []
    },
    {
      "cell_type": "code",
      "source": [
        "input_feature_test_arr=pipe.fit_transform(x_test)\n",
        "target_feature_test_df = y_test"
      ],
      "metadata": {
        "id": "zLGOADWTeWYt"
      },
      "execution_count": 27,
      "outputs": []
    },
    {
      "cell_type": "code",
      "source": [
        "from imblearn.combine import SMOTETomek\n",
        "smt=SMOTETomek()"
      ],
      "metadata": {
        "id": "cN9kBQZ6zyzl"
      },
      "execution_count": 28,
      "outputs": []
    },
    {
      "cell_type": "code",
      "source": [
        "input_feature_train_final_sample, target_feature_train_final_sample = smt.fit_resample(input_feature_train_arr, target_feature_train_df)\n"
      ],
      "metadata": {
        "id": "un5eys3X8A4r"
      },
      "execution_count": 29,
      "outputs": []
    },
    {
      "cell_type": "code",
      "source": [
        "input_feature_test_final_sample, target_feature_test_final_sample = smt.fit_resample(input_feature_test_arr, target_feature_test_df)\n"
      ],
      "metadata": {
        "id": "3l_iYrQ0eWca"
      },
      "execution_count": 30,
      "outputs": []
    },
    {
      "cell_type": "code",
      "source": [
        "input_feature_train_final_sample[0][0:10]"
      ],
      "metadata": {
        "colab": {
          "base_uri": "https://localhost:8080/"
        },
        "id": "RbyFfJbp9VIU",
        "outputId": "3b7c562c-a887-4d3b-edf5-3b210d4a78c4"
      },
      "execution_count": 31,
      "outputs": [
        {
          "output_type": "execute_result",
          "data": {
            "text/plain": [
              "array([ 204.,  140.,   78.,    0.,    0.,    0.,    0.,    0.,    0.,\n",
              "       6928.])"
            ]
          },
          "metadata": {},
          "execution_count": 31
        }
      ]
    },
    {
      "cell_type": "code",
      "source": [
        "target_feature_train_final_sample.value_counts()"
      ],
      "metadata": {
        "colab": {
          "base_uri": "https://localhost:8080/"
        },
        "id": "7j9yaQYSGSdY",
        "outputId": "1145a50d-5632-4c58-fbac-6468544f3109"
      },
      "execution_count": 32,
      "outputs": [
        {
          "output_type": "execute_result",
          "data": {
            "text/plain": [
              "0    27133\n",
              "1    27133\n",
              "Name: class, dtype: int64"
            ]
          },
          "metadata": {},
          "execution_count": 32
        }
      ]
    },
    {
      "cell_type": "code",
      "source": [
        "target_feature_train_df.value_counts()"
      ],
      "metadata": {
        "colab": {
          "base_uri": "https://localhost:8080/"
        },
        "id": "7evy_P6xGS4N",
        "outputId": "d6b09793-3e03-4a3b-ed1b-59462eee9d15"
      },
      "execution_count": 33,
      "outputs": [
        {
          "output_type": "execute_result",
          "data": {
            "text/plain": [
              "0    27140\n",
              "1      860\n",
              "Name: class, dtype: int64"
            ]
          },
          "metadata": {},
          "execution_count": 33
        }
      ]
    },
    {
      "cell_type": "code",
      "source": [
        "import numpy as np\n",
        "np.ndim(input_feature_train_final_sample)"
      ],
      "metadata": {
        "colab": {
          "base_uri": "https://localhost:8080/"
        },
        "id": "b6LAZlENG50F",
        "outputId": "0a29e7a2-61f3-4b6d-af81-58cd13b1d019"
      },
      "execution_count": 34,
      "outputs": [
        {
          "output_type": "execute_result",
          "data": {
            "text/plain": [
              "2"
            ]
          },
          "metadata": {},
          "execution_count": 34
        }
      ]
    },
    {
      "cell_type": "code",
      "source": [
        "train_arr = np.c_[input_feature_train_final_sample, target_feature_train_final_sample]\n"
      ],
      "metadata": {
        "id": "uVx0835VHGU-"
      },
      "execution_count": 35,
      "outputs": []
    },
    {
      "cell_type": "code",
      "source": [
        "test_arr = np.c_[input_feature_test_final_sample, target_feature_test_final_sample]"
      ],
      "metadata": {
        "id": "6iU9tKP4e9HM"
      },
      "execution_count": 36,
      "outputs": []
    },
    {
      "cell_type": "code",
      "source": [
        "np.ndim(train_arr)"
      ],
      "metadata": {
        "colab": {
          "base_uri": "https://localhost:8080/"
        },
        "id": "nm6ixU-_H62C",
        "outputId": "25c84e24-051d-466a-a6a9-9a7caf587133"
      },
      "execution_count": 37,
      "outputs": [
        {
          "output_type": "execute_result",
          "data": {
            "text/plain": [
              "2"
            ]
          },
          "metadata": {},
          "execution_count": 37
        }
      ]
    },
    {
      "cell_type": "code",
      "source": [
        "x_train_sample=train_arr[:,:-1]\n",
        "y_train_sample=train_arr[:,-1]"
      ],
      "metadata": {
        "id": "7bk94LfFIo_g"
      },
      "execution_count": 38,
      "outputs": []
    },
    {
      "cell_type": "code",
      "source": [
        "x_test_sample = test_arr[:,:-1]\n",
        "y_test_sample = test_arr[:,-1]"
      ],
      "metadata": {
        "id": "Ej_t_Hen_kAL"
      },
      "execution_count": 39,
      "outputs": []
    },
    {
      "cell_type": "code",
      "source": [
        "\"\"\"\n",
        "n_estimators=[]\n",
        "max_depth=[]\n",
        "min_samples_leaf=[]\n",
        "min_samples_split=[]\n",
        "\n",
        "#number of trees:\n",
        "for i in range(1, 100, 20):\n",
        "    n_estimators.append(i)\n",
        "\n",
        "## max_depth branch levels:\n",
        "for i in range(1, 30, 5):\n",
        "    max_depth.append(i)\n",
        "\n",
        "## split leaf node:\n",
        "for i in range(5, 50, 10):\n",
        "    min_samples_leaf.append(i)\n",
        "\n",
        "## split beanchs node:\n",
        "for i in range(5, 50, 10):\n",
        "    min_samples_split.append(i)\n",
        "\n",
        "\n",
        "# number of feature consider at every:\n",
        "max_features=['log2','sqrt']\n",
        "\"\"\""
      ],
      "metadata": {
        "id": "xPjtW5YjzEby"
      },
      "execution_count": null,
      "outputs": []
    },
    {
      "cell_type": "code",
      "source": [
        "import xgboost.XGBClassifier()\n",
        "#xgbt=xgb.XGBClassifier()"
      ],
      "metadata": {
        "id": "pmvHx7Jz8E8g"
      },
      "execution_count": 40,
      "outputs": []
    },
    {
      "cell_type": "code",
      "source": [
        "from sklearn.ensemble import RandomForestClassifier\n",
        "RandomForestClassifier=RandomForestClassifier()"
      ],
      "metadata": {
        "id": "d1Y6GHSdFRfE"
      },
      "execution_count": 41,
      "outputs": []
    },
    {
      "cell_type": "code",
      "source": [
        "##ran_cv_1=RandomizedSearchCV(estimator=RandomForestClassifier,param_distributions=para_grid,cv=5, n_iter=100)\n"
      ],
      "metadata": {
        "id": "x9UyZeuGFetY"
      },
      "execution_count": null,
      "outputs": []
    },
    {
      "cell_type": "code",
      "source": [
        "para_grid= {\n",
        "                \"n_estimators\":n_estimators,\n",
        "                \"max_depth\" : max_depth,\n",
        "\n",
        "            }\n",
        "\n",
        "from sklearn.model_selection import RandomizedSearchCV\n",
        "ran_cv=RandomizedSearchCV(estimator=xgbt,param_distributions=para_grid,cv=3, n_iter=100,verbose=1, n_jobs=1)\n",
        "ran_cv\n",
        "\n",
        "print(para_grid)\n",
        "print(ran_cv)"
      ],
      "metadata": {
        "colab": {
          "base_uri": "https://localhost:8080/"
        },
        "id": "S2feVR7dDFNZ",
        "outputId": "d72f10d8-cf57-4da9-9815-901670520616"
      },
      "execution_count": null,
      "outputs": [
        {
          "output_type": "stream",
          "name": "stdout",
          "text": [
            "{'n_estimators': [1, 21, 41, 61, 81], 'max_depth': [1, 6, 11, 16, 21, 26]}\n",
            "RandomizedSearchCV(cv=3,\n",
            "                   estimator=XGBClassifier(base_score=None, booster=None,\n",
            "                                           callbacks=None,\n",
            "                                           colsample_bylevel=None,\n",
            "                                           colsample_bynode=None,\n",
            "                                           colsample_bytree=None,\n",
            "                                           early_stopping_rounds=None,\n",
            "                                           enable_categorical=False,\n",
            "                                           eval_metric=None, feature_types=None,\n",
            "                                           gamma=None, gpu_id=None,\n",
            "                                           grow_policy=None,\n",
            "                                           importance_type=None,\n",
            "                                           interaction_constraints=None,\n",
            "                                           learning_rate...\n",
            "                                           max_cat_threshold=None,\n",
            "                                           max_cat_to_onehot=None,\n",
            "                                           max_delta_step=None, max_depth=None,\n",
            "                                           max_leaves=None,\n",
            "                                           min_child_weight=None, missing=nan,\n",
            "                                           monotone_constraints=None,\n",
            "                                           n_estimators=100, n_jobs=None,\n",
            "                                           num_parallel_tree=None,\n",
            "                                           predictor=None, random_state=None, ...),\n",
            "                   n_iter=100, n_jobs=1,\n",
            "                   param_distributions={'max_depth': [1, 6, 11, 16, 21, 26],\n",
            "                                        'n_estimators': [1, 21, 41, 61, 81]},\n",
            "                   verbose=1)\n"
          ]
        }
      ]
    },
    {
      "cell_type": "code",
      "source": [
        "fit_xgb = ran_cv.fit(x_train_sample,y_train_sample)"
      ],
      "metadata": {
        "colab": {
          "base_uri": "https://localhost:8080/"
        },
        "id": "0_344otQ9FAd",
        "outputId": "687b2788-af24-49b4-8907-147178376c56"
      },
      "execution_count": null,
      "outputs": [
        {
          "output_type": "stream",
          "name": "stderr",
          "text": [
            "/usr/local/lib/python3.10/dist-packages/sklearn/model_selection/_search.py:305: UserWarning: The total space of parameters 30 is smaller than n_iter=100. Running 30 iterations. For exhaustive searches, use GridSearchCV.\n",
            "  warnings.warn(\n"
          ]
        },
        {
          "output_type": "stream",
          "name": "stdout",
          "text": [
            "Fitting 3 folds for each of 30 candidates, totalling 90 fits\n"
          ]
        }
      ]
    },
    {
      "cell_type": "code",
      "source": [
        "print(fit_xgb.best_score_)\n",
        "print(fit_xgb.best_params_)\n"
      ],
      "metadata": {
        "colab": {
          "base_uri": "https://localhost:8080/"
        },
        "id": "3zXOn50MS2xX",
        "outputId": "a4dbda32-7d64-4459-ba9d-d0d2bdb4761a"
      },
      "execution_count": null,
      "outputs": [
        {
          "output_type": "stream",
          "name": "stdout",
          "text": [
            "0.9951159276051458\n",
            "{'n_estimators': 81, 'max_depth': 6}\n"
          ]
        }
      ]
    },
    {
      "cell_type": "code",
      "source": [
        "import pickle"
      ],
      "metadata": {
        "id": "imE0sC-5dFUC"
      },
      "execution_count": null,
      "outputs": []
    },
    {
      "cell_type": "code",
      "source": [
        "pickle.dump(fit_xgb, open(\"best_param.pkl\", \"wb\"))"
      ],
      "metadata": {
        "id": "t9PUgw3XERZy"
      },
      "execution_count": null,
      "outputs": []
    },
    {
      "cell_type": "code",
      "source": [],
      "metadata": {
        "id": "zRhe3ZNc0Tpp"
      },
      "execution_count": null,
      "outputs": []
    },
    {
      "cell_type": "markdown",
      "source": [
        "![confusion_matrix.png](data:image/png;base64,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)"
      ],
      "metadata": {
        "id": "_fh5y20u071e"
      }
    },
    {
      "cell_type": "markdown",
      "source": [
        "\n",
        "**True Positive**\n",
        "```\n",
        "Interpretation: You predicted positive and it’s true.\n",
        "\n",
        "Example : predicted that a woman is pregnant and she actually is.\n",
        "```\n",
        "\n",
        "**True Negative:**\n",
        "```\n",
        "Interpretation: You predicted negative and it’s true.\n",
        "\n",
        "Example :  predicted that a man is not pregnant and he actually is not.\n",
        "```\n",
        "**False Positive: (Type 1 Error)**\n",
        "```\n",
        "Interpretation: You predicted positive and it’s false.\n",
        "\n",
        "Example : predicted that a man is pregnant but he actually is not.\n",
        "```\n",
        "**False Negative: (Type 2 Error)**\n",
        "```\n",
        "Interpretation: You predicted negative and it’s false.\n",
        "Example :  predicted that a woman is not pregnant but she actually is.\n",
        "```\n"
      ],
      "metadata": {
        "id": "etxe5BMNgK8i"
      }
    },
    {
      "cell_type": "code",
      "source": [
        "y_pred = fit_xgb.predict(x_test_sample)\n",
        "y_pred"
      ],
      "metadata": {
        "colab": {
          "base_uri": "https://localhost:8080/"
        },
        "id": "bPrh2B2wdHrt",
        "outputId": "01b1749d-ef47-4751-d53e-28c8e3d6d3ad"
      },
      "execution_count": null,
      "outputs": [
        {
          "output_type": "execute_result",
          "data": {
            "text/plain": [
              "array([0, 0, 0, ..., 1, 1, 1])"
            ]
          },
          "metadata": {},
          "execution_count": 61
        }
      ]
    },
    {
      "cell_type": "code",
      "source": [
        "from sklearn.metrics import confusion_matrix\n",
        "\n",
        "print(confusion_matrix(y_test_sample, y_pred))"
      ],
      "metadata": {
        "colab": {
          "base_uri": "https://localhost:8080/"
        },
        "id": "nzQLnlWxf14N",
        "outputId": "772bf365-f75d-42d5-9f8f-1d21794314a3"
      },
      "execution_count": null,
      "outputs": [
        {
          "output_type": "stream",
          "name": "stdout",
          "text": [
            "[[6748   35]\n",
            " [ 206 6577]]\n"
          ]
        }
      ]
    },
    {
      "cell_type": "code",
      "source": [
        "tn, fp, fn, tp = confusion_matrix(y_test_sample, y_pred).ravel()\n",
        "(tn, fp, fn, tp)\n"
      ],
      "metadata": {
        "colab": {
          "base_uri": "https://localhost:8080/"
        },
        "id": "PW27t3Ogii9n",
        "outputId": "aefde247-7dc6-4230-f0d7-36093529faae"
      },
      "execution_count": null,
      "outputs": [
        {
          "output_type": "execute_result",
          "data": {
            "text/plain": [
              "(6748, 35, 206, 6577)"
            ]
          },
          "metadata": {},
          "execution_count": 68
        }
      ]
    },
    {
      "cell_type": "code",
      "source": [
        "import matplotlib.pyplot as plt\n",
        "from sklearn.metrics import ConfusionMatrixDisplay\n",
        "\n",
        "cm = confusion_matrix(y_test_sample, y_pred, labels=fit_xgb.classes_)\n",
        "disp = ConfusionMatrixDisplay(confusion_matrix=cm,display_labels=fit_xgb.classes_)\n",
        "\n",
        "disp.plot()\n",
        "plt.show()"
      ],
      "metadata": {
        "colab": {
          "base_uri": "https://localhost:8080/",
          "height": 449
        },
        "id": "9yR1MI1vjaFF",
        "outputId": "8931c6c1-5ff9-4cf0-d444-9b52b3f35c31"
      },
      "execution_count": null,
      "outputs": [
        {
          "output_type": "display_data",
          "data": {
            "text/plain": [
              "<Figure size 640x480 with 2 Axes>"
            ],
            "image/png": "[encoded data removed]"
          },
          "metadata": {}
        }
      ]
    },
    {
      "cell_type": "code",
      "source": [
        "from sklearn.metrics import f1_score\n",
        "F1_score = f1_score(y_test_sample, y_pred)*100\n",
        "f\"{F1_score:.2f}\""
      ],
      "metadata": {
        "colab": {
          "base_uri": "https://localhost:8080/",
          "height": 36
        },
        "id": "7xJ1zJm6ksdd",
        "outputId": "88df3c6a-9965-4e58-c48b-18c56d918217"
      },
      "execution_count": null,
      "outputs": [
        {
          "output_type": "execute_result",
          "data": {
            "text/plain": [
              "'98.20'"
            ],
            "application/vnd.google.colaboratory.intrinsic+json": {
              "type": "string"
            }
          },
          "metadata": {},
          "execution_count": 81
        }
      ]
    },
    {
      "cell_type": "markdown",
      "source": [],
      "metadata": {
        "id": "9EkYMICcmpzX"
      }
    },
    {
      "cell_type": "markdown",
      "source": [],
      "metadata": {
        "id": "88VmWXoWmp2l"
      }
    },
    {
      "cell_type": "markdown",
      "source": [
        "**MOdel Improvement**\n",
        "\n",
        "**GRIDSEARCH_CV**"
      ],
      "metadata": {
        "id": "JwoWN1T4mp8D"
      }
    },
    {
      "cell_type": "code",
      "source": [
        "import xgboost\n",
        "XGBOOST_=xgboost.XGBClassifier()"
      ],
      "metadata": {
        "id": "9TWuFF4Kr_j-"
      },
      "execution_count": 57,
      "outputs": []
    },
    {
      "cell_type": "code",
      "source": [
        "para_grid= {\n",
        "                \"n_estimators\":[81],\n",
        "                \"max_depth\" : [5],\n",
        "\n",
        "            }\n",
        "from sklearn.model_selection import GridSearchCV\n",
        "\n",
        "ran_cv=GridSearchCV(estimator=XGBOOST_,param_grid=para_grid,cv=3,verbose=2, n_jobs=1)\n",
        "ran_cv\n",
        "\n",
        "print(para_grid)\n",
        "print(ran_cv)"
      ],
      "metadata": {
        "colab": {
          "base_uri": "https://localhost:8080/"
        },
        "id": "JDBv4_j7lKwI",
        "outputId": "0b0292b0-1496-4ce5-c1f9-157ae3946019"
      },
      "execution_count": 61,
      "outputs": [
        {
          "output_type": "stream",
          "name": "stdout",
          "text": [
            "{'n_estimators': [81], 'max_depth': [5]}\n",
            "GridSearchCV(cv=3,\n",
            "             estimator=XGBClassifier(base_score=None, booster=None,\n",
            "                                     callbacks=None, colsample_bylevel=None,\n",
            "                                     colsample_bynode=None,\n",
            "                                     colsample_bytree=None,\n",
            "                                     early_stopping_rounds=None,\n",
            "                                     enable_categorical=False, eval_metric=None,\n",
            "                                     feature_types=None, gamma=None,\n",
            "                                     gpu_id=None, grow_policy=None,\n",
            "                                     importance_type=None,\n",
            "                                     interaction_constraints=None,\n",
            "                                     learning_rate=None, max_bin=None,\n",
            "                                     max_cat_threshold=None,\n",
            "                                     max_cat_to_onehot=None,\n",
            "                                     max_delta_step=None, max_depth=None,\n",
            "                                     max_leaves=None, min_child_weight=None,\n",
            "                                     missing=nan, monotone_constraints=None,\n",
            "                                     n_estimators=100, n_jobs=None,\n",
            "                                     num_parallel_tree=None, predictor=None,\n",
            "                                     random_state=None, ...),\n",
            "             n_jobs=1, param_grid={'max_depth': [5], 'n_estimators': [81]},\n",
            "             verbose=2)\n"
          ]
        }
      ]
    },
    {
      "cell_type": "code",
      "source": [
        "fit_xgb = ran_cv.fit(x_train_sample,y_train_sample)"
      ],
      "metadata": {
        "colab": {
          "base_uri": "https://localhost:8080/"
        },
        "id": "Rd7ynNqGmvfS",
        "outputId": "5ad168e6-e346-4bc2-9cfb-cdcf1040b1fc"
      },
      "execution_count": 60,
      "outputs": [
        {
          "output_type": "stream",
          "name": "stdout",
          "text": [
            "Fitting 3 folds for each of 1 candidates, totalling 3 fits\n",
            "[CV 1/3] END ......max_depth=5, n_estimators=81;, score=0.994 total time=  59.2s\n",
            "[CV 2/3] END ......max_depth=5, n_estimators=81;, score=0.995 total time=  52.4s\n",
            "[CV 3/3] END ......max_depth=5, n_estimators=81;, score=0.995 total time=  54.6s\n"
          ]
        }
      ]
    },
    {
      "cell_type": "code",
      "source": [
        "print(fit_xgb.best_score_)\n",
        "print(fit_xgb.best_params_)"
      ],
      "metadata": {
        "colab": {
          "base_uri": "https://localhost:8080/"
        },
        "id": "opufa2YNnBPz",
        "outputId": "734db6e2-6f52-48d9-e963-2626c663a1df"
      },
      "execution_count": 62,
      "outputs": [
        {
          "output_type": "stream",
          "name": "stdout",
          "text": [
            "0.9944348329483995\n",
            "{'max_depth': 5, 'n_estimators': 81}\n"
          ]
        }
      ]
    },
    {
      "cell_type": "code",
      "source": [
        "y_pred_1 = fit_xgb.predict(x_test_sample)\n",
        "y_pred_1"
      ],
      "metadata": {
        "colab": {
          "base_uri": "https://localhost:8080/"
        },
        "id": "4q2x69WywRkO",
        "outputId": "decd836e-c343-43de-c7a7-f71193e78781"
      },
      "execution_count": 63,
      "outputs": [
        {
          "output_type": "execute_result",
          "data": {
            "text/plain": [
              "array([0, 0, 0, ..., 1, 1, 1])"
            ]
          },
          "metadata": {},
          "execution_count": 63
        }
      ]
    },
    {
      "cell_type": "code",
      "source": [
        "from sklearn.metrics import f1_score\n",
        "F1_score = f1_score(y_test_sample, y_pred_1)*100\n",
        "f\"{F1_score:.2f}\""
      ],
      "metadata": {
        "colab": {
          "base_uri": "https://localhost:8080/",
          "height": 36
        },
        "id": "tMQzk_XrsBAH",
        "outputId": "ffd2e494-63f8-4719-de3e-2999c4aeeba6"
      },
      "execution_count": 64,
      "outputs": [
        {
          "output_type": "execute_result",
          "data": {
            "text/plain": [
              "'98.21'"
            ],
            "application/vnd.google.colaboratory.intrinsic+json": {
              "type": "string"
            }
          },
          "metadata": {},
          "execution_count": 64
        }
      ]
    },
    {
      "cell_type": "code",
      "source": [
        "print((fit_xgb.best_score_))"
      ],
      "metadata": {
        "colab": {
          "base_uri": "https://localhost:8080/"
        },
        "id": "Gk2qmxZx7nuk",
        "outputId": "6b6f929e-eeec-4720-85a0-474756a59b3b"
      },
      "execution_count": 65,
      "outputs": [
        {
          "output_type": "stream",
          "name": "stdout",
          "text": [
            "0.9944348329483995\n"
          ]
        }
      ]
    },
    {
      "cell_type": "code",
      "source": [
        "import matplotlib.pyplot as plt\n",
        "from sklearn.metrics import ConfusionMatrixDisplay\n",
        "from sklearn.metrics import confusion_matrix\n",
        "cm = confusion_matrix(y_test_sample, y_pred_1, labels=fit_xgb.classes_)\n",
        "disp = ConfusionMatrixDisplay(confusion_matrix=cm,display_labels=fit_xgb.classes_)\n",
        "\n",
        "disp.plot()\n",
        "plt.show()"
      ],
      "metadata": {
        "colab": {
          "base_uri": "https://localhost:8080/",
          "height": 449
        },
        "id": "ZFsW6UUxuknU",
        "outputId": "e3cf7fba-427f-453a-e3be-4e45ae418a8c"
      },
      "execution_count": 66,
      "outputs": [
        {
          "output_type": "display_data",
          "data": {
            "text/plain": [
              "<Figure size 640x480 with 2 Axes>"
            ],
            "image/png": "[encoded data removed]"
          },
          "metadata": {}
        }
      ]
    },
    {
      "cell_type": "code",
      "source": [
        "\n"
      ],
      "metadata": {
        "id": "YOHgX8GIwB6L"
      },
      "execution_count": null,
      "outputs": []
    },
    {
      "cell_type": "code",
      "source": [],
      "metadata": {
        "id": "dycmkL60EbT3"
      },
      "execution_count": null,
      "outputs": []
    },
    {
      "cell_type": "markdown",
      "source": [
        "**test text**"
      ],
      "metadata": {
        "id": "gjWQm_7a36bL"
      }
    },
    {
      "cell_type": "code",
      "source": [],
      "metadata": {
        "id": "1uqj0BEw39-u"
      },
      "execution_count": 1,
      "outputs": []
    },
    {
      "cell_type": "code",
      "source": [
        "import pandas as pd\n",
        "a=pd.DataFrame({\"name\":[\"msn\",\"ms\"],\"sports\":[\"football\",\"basketball\"]})\n",
        "b=pd.DataFrame({\"name\":[\"negi\"],\"sports\":[\"Criket\"]})\n"
      ],
      "metadata": {
        "id": "tkEV5Yy34FfG"
      },
      "execution_count": 9,
      "outputs": []
    },
    {
      "cell_type": "code",
      "source": [
        "print(a)\n",
        "print(b)"
      ],
      "metadata": {
        "colab": {
          "base_uri": "https://localhost:8080/"
        },
        "id": "AiIqjTNg4LYT",
        "outputId": "ca7125a0-399f-4bc0-86ae-4c6617b357dc"
      },
      "execution_count": 13,
      "outputs": [
        {
          "output_type": "stream",
          "name": "stdout",
          "text": [
            "  name      sports\n",
            "0  msn    football\n",
            "1   ms  basketball\n",
            "   name  sports\n",
            "0  negi  Criket\n"
          ]
        }
      ]
    },
    {
      "cell_type": "code",
      "source": [
        " df=pd.concat([a,b])\n",
        " df"
      ],
      "metadata": {
        "colab": {
          "base_uri": "https://localhost:8080/",
          "height": 143
        },
        "id": "1nGFRDjL49oc",
        "outputId": "06f8ffdb-fcb6-440b-b24e-64cd79a6fc93"
      },
      "execution_count": 14,
      "outputs": [
        {
          "output_type": "execute_result",
          "data": {
            "text/plain": [
              "   name      sports\n",
              "0   msn    football\n",
              "1    ms  basketball\n",
              "0  negi      Criket"
            ],
            "text/html": [
              "\n",
              "  <div id=\"df-23a0e51d-5028-4508-939a-29f2f3d0fe0c\">\n",
              "    <div class=\"colab-df-container\">\n",
              "      <div>\n",
              "<style scoped>\n",
              "    .dataframe tbody tr th:only-of-type {\n",
              "        vertical-align: middle;\n",
              "    }\n",
              "\n",
              "    .dataframe tbody tr th {\n",
              "        vertical-align: top;\n",
              "    }\n",
              "\n",
              "    .dataframe thead th {\n",
              "        text-align: right;\n",
              "    }\n",
              "</style>\n",
              "<table border=\"1\" class=\"dataframe\">\n",
              "  <thead>\n",
              "    <tr style=\"text-align: right;\">\n",
              "      <th></th>\n",
              "      <th>name</th>\n",
              "      <th>sports</th>\n",
              "    </tr>\n",
              "  </thead>\n",
              "  <tbody>\n",
              "    <tr>\n",
              "      <th>0</th>\n",
              "      <td>msn</td>\n",
              "      <td>football</td>\n",
              "    </tr>\n",
              "    <tr>\n",
              "      <th>1</th>\n",
              "      <td>ms</td>\n",
              "      <td>basketball</td>\n",
              "    </tr>\n",
              "    <tr>\n",
              "      <th>0</th>\n",
              "      <td>negi</td>\n",
              "      <td>Criket</td>\n",
              "    </tr>\n",
              "  </tbody>\n",
              "</table>\n",
              "</div>\n",
              "      <button class=\"colab-df-convert\" onclick=\"convertToInteractive('df-23a0e51d-5028-4508-939a-29f2f3d0fe0c')\"\n",
              "              title=\"Convert this dataframe to an interactive table.\"\n",
              "              style=\"display:none;\">\n",
              "        \n",
              "  <svg xmlns=\"http://www.w3.org/2000/svg\" height=\"24px\"viewBox=\"0 0 24 24\"\n",
              "       width=\"24px\">\n",
              "    <path d=\"M0 0h24v24H0V0z\" fill=\"none\"/>\n",
              "    <path d=\"M18.56 5.44l.94 2.06.94-2.06 2.06-.94-2.06-.94-.94-2.06-.94 2.06-2.06.94zm-11 1L8.5 8.5l.94-2.06 2.06-.94-2.06-.94L8.5 2.5l-.94 2.06-2.06.94zm10 10l.94 2.06.94-2.06 2.06-.94-2.06-.94-.94-2.06-.94 2.06-2.06.94z\"/><path d=\"M17.41 7.96l-1.37-1.37c-.4-.4-.92-.59-1.43-.59-.52 0-1.04.2-1.43.59L10.3 9.45l-7.72 7.72c-.78.78-.78 2.05 0 2.83L4 21.41c.39.39.9.59 1.41.59.51 0 1.02-.2 1.41-.59l7.78-7.78 2.81-2.81c.8-.78.8-2.07 0-2.86zM5.41 20L4 18.59l7.72-7.72 1.47 1.35L5.41 20z\"/>\n",
              "  </svg>\n",
              "      </button>\n",
              "      \n",
              "  <style>\n",
              "    .colab-df-container {\n",
              "      display:flex;\n",
              "      flex-wrap:wrap;\n",
              "      gap: 12px;\n",
              "    }\n",
              "\n",
              "    .colab-df-convert {\n",
              "      background-color: #E8F0FE;\n",
              "      border: none;\n",
              "      border-radius: 50%;\n",
              "      cursor: pointer;\n",
              "      display: none;\n",
              "      fill: #1967D2;\n",
              "      height: 32px;\n",
              "      padding: 0 0 0 0;\n",
              "      width: 32px;\n",
              "    }\n",
              "\n",
              "    .colab-df-convert:hover {\n",
              "      background-color: #E2EBFA;\n",
              "      box-shadow: 0px 1px 2px rgba(60, 64, 67, 0.3), 0px 1px 3px 1px rgba(60, 64, 67, 0.15);\n",
              "      fill: #174EA6;\n",
              "    }\n",
              "\n",
              "    [theme=dark] .colab-df-convert {\n",
              "      background-color: #3B4455;\n",
              "      fill: #D2E3FC;\n",
              "    }\n",
              "\n",
              "    [theme=dark] .colab-df-convert:hover {\n",
              "      background-color: #434B5C;\n",
              "      box-shadow: 0px 1px 3px 1px rgba(0, 0, 0, 0.15);\n",
              "      filter: drop-shadow(0px 1px 2px rgba(0, 0, 0, 0.3));\n",
              "      fill: #FFFFFF;\n",
              "    }\n",
              "  </style>\n",
              "\n",
              "      <script>\n",
              "        const buttonEl =\n",
              "          document.querySelector('#df-23a0e51d-5028-4508-939a-29f2f3d0fe0c button.colab-df-convert');\n",
              "        buttonEl.style.display =\n",
              "          google.colab.kernel.accessAllowed ? 'block' : 'none';\n",
              "\n",
              "        async function convertToInteractive(key) {\n",
              "          const element = document.querySelector('#df-23a0e51d-5028-4508-939a-29f2f3d0fe0c');\n",
              "          const dataTable =\n",
              "            await google.colab.kernel.invokeFunction('convertToInteractive',\n",
              "                                                     [key], {});\n",
              "          if (!dataTable) return;\n",
              "\n",
              "          const docLinkHtml = 'Like what you see? Visit the ' +\n",
              "            '<a target=\"_blank\" href=https://colab.research.google.com/notebooks/data_table.ipynb>data table notebook</a>'\n",
              "            + ' to learn more about interactive tables.';\n",
              "          element.innerHTML = '';\n",
              "          dataTable['output_type'] = 'display_data';\n",
              "          await google.colab.output.renderOutput(dataTable, element);\n",
              "          const docLink = document.createElement('div');\n",
              "          docLink.innerHTML = docLinkHtml;\n",
              "          element.appendChild(docLink);\n",
              "        }\n",
              "      </script>\n",
              "    </div>\n",
              "  </div>\n",
              "  "
            ]
          },
          "metadata": {},
          "execution_count": 14
        }
      ]
    },
    {
      "cell_type": "code",
      "source": [
        "from datetime import datetime"
      ],
      "metadata": {
        "id": "SJfPZ_xJ5IQQ"
      },
      "execution_count": 15,
      "outputs": []
    },
    {
      "cell_type": "code",
      "source": [
        "t=datetime.now()\n",
        "print(t)"
      ],
      "metadata": {
        "colab": {
          "base_uri": "https://localhost:8080/"
        },
        "id": "W2-zHuS_P3pJ",
        "outputId": "895c591f-741b-4b62-f037-3cda2270e295"
      },
      "execution_count": 25,
      "outputs": [
        {
          "output_type": "stream",
          "name": "stdout",
          "text": [
            "2023-07-01 07:03:29.975353\n"
          ]
        }
      ]
    },
    {
      "cell_type": "code",
      "source": [
        "t.strftime(\"%H:%M:%S\")"
      ],
      "metadata": {
        "colab": {
          "base_uri": "https://localhost:8080/",
          "height": 36
        },
        "id": "o-pGPWULP6Qj",
        "outputId": "e06bed79-7e1d-4937-cd6a-32161f42abfc"
      },
      "execution_count": 27,
      "outputs": [
        {
          "output_type": "execute_result",
          "data": {
            "text/plain": [
              "'07:03:29'"
            ],
            "application/vnd.google.colaboratory.intrinsic+json": {
              "type": "string"
            }
          },
          "metadata": {},
          "execution_count": 27
        }
      ]
    },
    {
      "cell_type": "code",
      "source": [
        "timestamp = t.strftime('%m_%d_%Y_%H_%M_%S')\n",
        "timestamp"
      ],
      "metadata": {
        "colab": {
          "base_uri": "https://localhost:8080/",
          "height": 36
        },
        "id": "p0BBc3uBR88Y",
        "outputId": "10b1a9ab-7fe6-4c51-a3f3-c20be4b102e7"
      },
      "execution_count": 31,
      "outputs": [
        {
          "output_type": "execute_result",
          "data": {
            "text/plain": [
              "'07_01_2023_07_03_29'"
            ],
            "application/vnd.google.colaboratory.intrinsic+json": {
              "type": "string"
            }
          },
          "metadata": {},
          "execution_count": 31
        }
      ]
    },
    {
      "cell_type": "code",
      "source": [
        "import os\n",
        "path=os.path.join('test',timestamp)\n",
        "os.makedirs(path)"
      ],
      "metadata": {
        "id": "CARPKMWoQHDU"
      },
      "execution_count": 32,
      "outputs": []
    },
    {
      "cell_type": "code",
      "source": [
        "saved_dir=os.path.join('saved_dir')"
      ],
      "metadata": {
        "id": "HPD8HTlAQZz1"
      },
      "execution_count": 33,
      "outputs": []
    },
    {
      "cell_type": "code",
      "source": [
        "saved_dir"
      ],
      "metadata": {
        "colab": {
          "base_uri": "https://localhost:8080/",
          "height": 36
        },
        "id": "pag7eRQKZV3b",
        "outputId": "1c8abe9f-4624-4311-e86c-4315100639c6"
      },
      "execution_count": 34,
      "outputs": [
        {
          "output_type": "execute_result",
          "data": {
            "text/plain": [
              "'saved_dir'"
            ],
            "application/vnd.google.colaboratory.intrinsic+json": {
              "type": "string"
            }
          },
          "metadata": {},
          "execution_count": 34
        }
      ]
    },
    {
      "cell_type": "code",
      "source": [
        "from datetime import datetime"
      ],
      "metadata": {
        "id": "hsbGqba0ZXRO"
      },
      "execution_count": 38,
      "outputs": []
    },
    {
      "cell_type": "code",
      "source": [
        "round(datetime.now().timestamp())"
      ],
      "metadata": {
        "colab": {
          "base_uri": "https://localhost:8080/"
        },
        "id": "NH6ZsFva1Ifh",
        "outputId": "4580fda5-9afb-44ec-e1ed-f309290e6913"
      },
      "execution_count": 43,
      "outputs": [
        {
          "output_type": "execute_result",
          "data": {
            "text/plain": [
              "1688204595"
            ]
          },
          "metadata": {},
          "execution_count": 43
        }
      ]
    },
    {
      "cell_type": "code",
      "source": [],
      "metadata": {
        "id": "Qs046VIc1RN1"
      },
      "execution_count": null,
      "outputs": []
    }
  ]
}